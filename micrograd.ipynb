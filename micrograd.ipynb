{
  "nbformat": 4,
  "nbformat_minor": 0,
  "metadata": {
    "colab": {
      "provenance": [],
      "authorship_tag": "ABX9TyPIbrgL9ieFFSjtWLG1FcFk"
    },
    "kernelspec": {
      "name": "python3",
      "display_name": "Python 3"
    },
    "language_info": {
      "name": "python"
    }
  },
  "cells": [
    {
      "cell_type": "code",
      "source": [
        "import math\n",
        "import random"
      ],
      "metadata": {
        "id": "Fz6ezK3yDosq"
      },
      "execution_count": null,
      "outputs": []
    },
    {
      "cell_type": "code",
      "source": [
        "class Value:\n",
        "    data: float = 0\n",
        "\n",
        "    def __init__(self, data: float, _children: tuple[\"Value\"]=(), _op: str=\"\", label: str=\"\"):\n",
        "        self.data = data\n",
        "        self.grad = 0.0     # derivative of loss fn wrt to this value\n",
        "        self._backward = lambda: None\n",
        "        # We're passing tuple but keeping the value as set. Efficiency?\n",
        "        self._prev = set(_children)\n",
        "        self._op = _op\n",
        "        self.label = label\n",
        "\n",
        "    def __repr__(self):\n",
        "        return f\"Value(data={self.data})\"\n",
        "\n",
        "    def __pow__(self, other):\n",
        "        assert isinstance(other, (int, float))\n",
        "        out = Value(self.data**other, (self,), f\"**{other}\")\n",
        "\n",
        "        def _backward():\n",
        "            self.grad += (other * self.data**(other-1)) * out.grad\n",
        "        out._backward = _backward\n",
        "\n",
        "        return out\n",
        "\n",
        "    def __add__(self, other: \"Value\") -> \"Value\":\n",
        "        other = other if isinstance(other, Value) else Value(other)\n",
        "        out = Value(self.data + other.data, (self, other), \"+\")\n",
        "\n",
        "        def _backward():\n",
        "            self.grad += 1.0 * out.grad\n",
        "            other.grad += 1.0 * out.grad\n",
        "        out._backward = _backward\n",
        "\n",
        "        return out\n",
        "\n",
        "    def __mul__(self, other: \"Value\") -> \"Value\":\n",
        "        other = other if isinstance(other, Value) else Value(other)\n",
        "        out = Value(self.data * other.data, (self, other), '*')\n",
        "\n",
        "        def _backward():\n",
        "            self.grad = other.data * out.grad\n",
        "            other.grad = self.data * out.grad\n",
        "        out._backward = _backward\n",
        "\n",
        "        return out\n",
        "\n",
        "    def __rmul__(self, other: \"Value\") -> \"Value\":  # initially other * self\n",
        "        return self * other\n",
        "\n",
        "    def __radd__(self, other: \"Value\") -> \"Value\":  # initially other * self\n",
        "        return self + other\n",
        "\n",
        "    def __neg__(self):\n",
        "        return self * -1\n",
        "\n",
        "    def __sub__(self, other):\n",
        "        return self + (-other)\n",
        "\n",
        "    def __rsub__(self, other): # other - self\n",
        "        return other + (-self)\n",
        "\n",
        "    def tanh(self):\n",
        "        x = self.data;\n",
        "        t = (math.exp(2*x) - 1)/(math.exp(2*x) + 1)\n",
        "        out = Value(t, (self,), \"tanh\")\n",
        "\n",
        "        def _backward():\n",
        "            self.grad += (1 - t**2) * out.grad\n",
        "        out._backward = _backward\n",
        "\n",
        "        return out\n",
        "\n",
        "    def backward(self):\n",
        "        topo = []\n",
        "        visited = set()\n",
        "        def build_topo(n):\n",
        "            if n not in visited:\n",
        "                visited.add(n)\n",
        "                for child in n._prev:\n",
        "                    build_topo(child)\n",
        "                topo.append(n)\n",
        "        build_topo(self)\n",
        "\n",
        "        self.grad = 1.0\n",
        "        for node in reversed(topo):\n",
        "            node._backward()"
      ],
      "metadata": {
        "id": "93prr2AX25w-"
      },
      "execution_count": null,
      "outputs": []
    },
    {
      "cell_type": "code",
      "execution_count": null,
      "metadata": {
        "colab": {
          "base_uri": "https://localhost:8080/"
        },
        "id": "PXIN2LVU2scZ",
        "outputId": "c764bf69-5f5a-43f9-e1a8-b71ddb565594"
      },
      "outputs": [
        {
          "output_type": "stream",
          "name": "stdout",
          "text": [
            "[Value(data=-3.0), Value(data=2.0), Value(data=-6.0), Value(data=10.0), Value(data=4.0), Value(data=-2.0), Value(data=-8.0)]\n"
          ]
        }
      ],
      "source": [
        "a = Value(2.0, label=\"a\")\n",
        "b = Value(-3.0, label=\"b\")\n",
        "c = Value(10.0, label=\"c\")\n",
        "f = Value(-2.0, label=\"f\")\n",
        "e = a*b; e.label = \"e\"\n",
        "d = e + c; d.label = \"d\"\n",
        "L = d*f; L.label = \"L\"\n",
        "L.backward()"
      ]
    },
    {
      "cell_type": "code",
      "source": [
        "from graphviz import Digraph\n",
        "\n",
        "def trace(root: Value):\n",
        "    \"\"\"\n",
        "    Builds a set of all nodes and edges in a graph\n",
        "    \"\"\"\n",
        "    nodes, edges = set(), set()\n",
        "    def build(v):\n",
        "        if v not in nodes:\n",
        "            nodes.add(v)\n",
        "            for child in v._prev:\n",
        "                edges.add((child, v))\n",
        "                build(child)\n",
        "    build(root)\n",
        "    return nodes, edges\n",
        "\n",
        "def draw(root):\n",
        "    dot = Digraph(format=\"svg\", graph_attr={\"rankdir\": \"LR\"})\n",
        "    nodes, edges = trace(root)\n",
        "    for n in nodes:\n",
        "        uid = str(id(n))\n",
        "        dot.node(name=uid, label=\"{ %s | data %.4f | grad %.4f }\" % (n.label, n.data, n.grad), shape=\"record\")\n",
        "        if n._op:\n",
        "            dot.node(name=uid + n._op, label=n._op)\n",
        "            dot.edge(uid + n._op, uid)\n",
        "    for n1, n2 in edges:\n",
        "        dot.edge(str(id(n1)), str(id(n2)) + n2._op)\n",
        "    return dot"
      ],
      "metadata": {
        "id": "y4Un_0az4JI7"
      },
      "execution_count": null,
      "outputs": []
    },
    {
      "cell_type": "code",
      "source": [
        "draw(L)\n",
        "# L to R is the forward pass\n",
        "# During backpropagation, we'll find the derivative of L wrt to that node\n",
        "\n",
        "# Think of L as the loss function.\n",
        "# We want to see how changes in weights affect the loss function.\n",
        "# Weights are the children nodes, except for the a and b which represent the input data itself, which cannot change."
      ],
      "metadata": {
        "colab": {
          "base_uri": "https://localhost:8080/",
          "height": 249
        },
        "id": "QJNzZR7b59Os",
        "outputId": "e9b9044a-11ff-4018-9fda-b26666316cf5"
      },
      "execution_count": null,
      "outputs": [
        {
          "output_type": "execute_result",
          "data": {
            "image/svg+xml": "<?xml version=\"1.0\" encoding=\"UTF-8\" standalone=\"no\"?>\n<!DOCTYPE svg PUBLIC \"-//W3C//DTD SVG 1.1//EN\"\n \"http://www.w3.org/Graphics/SVG/1.1/DTD/svg11.dtd\">\n<!-- Generated by graphviz version 2.43.0 (0)\n -->\n<!-- Title: %3 Pages: 1 -->\n<svg width=\"1157pt\" height=\"156pt\"\n viewBox=\"0.00 0.00 1157.00 156.00\" xmlns=\"http://www.w3.org/2000/svg\" xmlns:xlink=\"http://www.w3.org/1999/xlink\">\n<g id=\"graph0\" class=\"graph\" transform=\"scale(1 1) rotate(0) translate(4 152)\">\n<title>%3</title>\n<polygon fill=\"white\" stroke=\"transparent\" points=\"-4,4 -4,-152 1153,-152 1153,4 -4,4\"/>\n<!-- 135642581191168 -->\n<g id=\"node1\" class=\"node\">\n<title>135642581191168</title>\n<polygon fill=\"none\" stroke=\"black\" points=\"0,-111.5 0,-147.5 194,-147.5 194,-111.5 0,-111.5\"/>\n<text text-anchor=\"middle\" x=\"11.5\" y=\"-125.8\" font-family=\"Times,serif\" font-size=\"14.00\">b</text>\n<polyline fill=\"none\" stroke=\"black\" points=\"23,-111.5 23,-147.5 \"/>\n<text text-anchor=\"middle\" x=\"65.5\" y=\"-125.8\" font-family=\"Times,serif\" font-size=\"14.00\">data &#45;3.0000</text>\n<polyline fill=\"none\" stroke=\"black\" points=\"108,-111.5 108,-147.5 \"/>\n<text text-anchor=\"middle\" x=\"151\" y=\"-125.8\" font-family=\"Times,serif\" font-size=\"14.00\">grad &#45;4.0000</text>\n</g>\n<!-- 135642581199424* -->\n<g id=\"node3\" class=\"node\">\n<title>135642581199424*</title>\n<ellipse fill=\"none\" stroke=\"black\" cx=\"257\" cy=\"-101.5\" rx=\"27\" ry=\"18\"/>\n<text text-anchor=\"middle\" x=\"257\" y=\"-97.8\" font-family=\"Times,serif\" font-size=\"14.00\">*</text>\n</g>\n<!-- 135642581191168&#45;&gt;135642581199424* -->\n<g id=\"edge8\" class=\"edge\">\n<title>135642581191168&#45;&gt;135642581199424*</title>\n<path fill=\"none\" stroke=\"black\" d=\"M194.01,-112.49C203.35,-110.83 212.37,-109.23 220.49,-107.79\"/>\n<polygon fill=\"black\" stroke=\"black\" points=\"221.37,-111.19 230.6,-106 220.15,-104.3 221.37,-111.19\"/>\n</g>\n<!-- 135642581199424 -->\n<g id=\"node2\" class=\"node\">\n<title>135642581199424</title>\n<polygon fill=\"none\" stroke=\"black\" points=\"321,-83.5 321,-119.5 515,-119.5 515,-83.5 321,-83.5\"/>\n<text text-anchor=\"middle\" x=\"332.5\" y=\"-97.8\" font-family=\"Times,serif\" font-size=\"14.00\">e</text>\n<polyline fill=\"none\" stroke=\"black\" points=\"344,-83.5 344,-119.5 \"/>\n<text text-anchor=\"middle\" x=\"386.5\" y=\"-97.8\" font-family=\"Times,serif\" font-size=\"14.00\">data &#45;6.0000</text>\n<polyline fill=\"none\" stroke=\"black\" points=\"429,-83.5 429,-119.5 \"/>\n<text text-anchor=\"middle\" x=\"472\" y=\"-97.8\" font-family=\"Times,serif\" font-size=\"14.00\">grad &#45;2.0000</text>\n</g>\n<!-- 135642581199616+ -->\n<g id=\"node5\" class=\"node\">\n<title>135642581199616+</title>\n<ellipse fill=\"none\" stroke=\"black\" cx=\"579\" cy=\"-73.5\" rx=\"27\" ry=\"18\"/>\n<text text-anchor=\"middle\" x=\"579\" y=\"-69.8\" font-family=\"Times,serif\" font-size=\"14.00\">+</text>\n</g>\n<!-- 135642581199424&#45;&gt;135642581199616+ -->\n<g id=\"edge6\" class=\"edge\">\n<title>135642581199424&#45;&gt;135642581199616+</title>\n<path fill=\"none\" stroke=\"black\" d=\"M515.16,-84.57C524.82,-82.87 534.13,-81.23 542.49,-79.75\"/>\n<polygon fill=\"black\" stroke=\"black\" points=\"543.3,-83.17 552.54,-77.98 542.08,-76.27 543.3,-83.17\"/>\n</g>\n<!-- 135642581199424*&#45;&gt;135642581199424 -->\n<g id=\"edge1\" class=\"edge\">\n<title>135642581199424*&#45;&gt;135642581199424</title>\n<path fill=\"none\" stroke=\"black\" d=\"M284.26,-101.5C292.05,-101.5 301.1,-101.5 310.75,-101.5\"/>\n<polygon fill=\"black\" stroke=\"black\" points=\"310.99,-105 320.99,-101.5 310.99,-98 310.99,-105\"/>\n</g>\n<!-- 135642581199616 -->\n<g id=\"node4\" class=\"node\">\n<title>135642581199616</title>\n<polygon fill=\"none\" stroke=\"black\" points=\"642,-55.5 642,-91.5 831,-91.5 831,-55.5 642,-55.5\"/>\n<text text-anchor=\"middle\" x=\"653.5\" y=\"-69.8\" font-family=\"Times,serif\" font-size=\"14.00\">d</text>\n<polyline fill=\"none\" stroke=\"black\" points=\"665,-55.5 665,-91.5 \"/>\n<text text-anchor=\"middle\" x=\"705\" y=\"-69.8\" font-family=\"Times,serif\" font-size=\"14.00\">data 4.0000</text>\n<polyline fill=\"none\" stroke=\"black\" points=\"745,-55.5 745,-91.5 \"/>\n<text text-anchor=\"middle\" x=\"788\" y=\"-69.8\" font-family=\"Times,serif\" font-size=\"14.00\">grad &#45;2.0000</text>\n</g>\n<!-- 135642581191456* -->\n<g id=\"node8\" class=\"node\">\n<title>135642581191456*</title>\n<ellipse fill=\"none\" stroke=\"black\" cx=\"894\" cy=\"-45.5\" rx=\"27\" ry=\"18\"/>\n<text text-anchor=\"middle\" x=\"894\" y=\"-41.8\" font-family=\"Times,serif\" font-size=\"14.00\">*</text>\n</g>\n<!-- 135642581199616&#45;&gt;135642581191456* -->\n<g id=\"edge5\" class=\"edge\">\n<title>135642581199616&#45;&gt;135642581191456*</title>\n<path fill=\"none\" stroke=\"black\" d=\"M831.1,-56.65C840.4,-54.97 849.38,-53.35 857.49,-51.89\"/>\n<polygon fill=\"black\" stroke=\"black\" points=\"858.37,-55.29 867.59,-50.07 857.13,-48.4 858.37,-55.29\"/>\n</g>\n<!-- 135642581199616+&#45;&gt;135642581199616 -->\n<g id=\"edge2\" class=\"edge\">\n<title>135642581199616+&#45;&gt;135642581199616</title>\n<path fill=\"none\" stroke=\"black\" d=\"M606.03,-73.5C613.66,-73.5 622.52,-73.5 631.94,-73.5\"/>\n<polygon fill=\"black\" stroke=\"black\" points=\"631.94,-77 641.94,-73.5 631.94,-70 631.94,-77\"/>\n</g>\n<!-- 135642581192464 -->\n<g id=\"node6\" class=\"node\">\n<title>135642581192464</title>\n<polygon fill=\"none\" stroke=\"black\" points=\"4.5,-56.5 4.5,-92.5 189.5,-92.5 189.5,-56.5 4.5,-56.5\"/>\n<text text-anchor=\"middle\" x=\"16\" y=\"-70.8\" font-family=\"Times,serif\" font-size=\"14.00\">a</text>\n<polyline fill=\"none\" stroke=\"black\" points=\"27.5,-56.5 27.5,-92.5 \"/>\n<text text-anchor=\"middle\" x=\"67.5\" y=\"-70.8\" font-family=\"Times,serif\" font-size=\"14.00\">data 2.0000</text>\n<polyline fill=\"none\" stroke=\"black\" points=\"107.5,-56.5 107.5,-92.5 \"/>\n<text text-anchor=\"middle\" x=\"148.5\" y=\"-70.8\" font-family=\"Times,serif\" font-size=\"14.00\">grad 6.0000</text>\n</g>\n<!-- 135642581192464&#45;&gt;135642581199424* -->\n<g id=\"edge7\" class=\"edge\">\n<title>135642581192464&#45;&gt;135642581199424*</title>\n<path fill=\"none\" stroke=\"black\" d=\"M189.91,-90.21C200.76,-92.06 211.28,-93.86 220.61,-95.45\"/>\n<polygon fill=\"black\" stroke=\"black\" points=\"220.16,-98.93 230.6,-97.16 221.34,-92.03 220.16,-98.93\"/>\n</g>\n<!-- 135642581191456 -->\n<g id=\"node7\" class=\"node\">\n<title>135642581191456</title>\n<polygon fill=\"none\" stroke=\"black\" points=\"957,-27.5 957,-63.5 1149,-63.5 1149,-27.5 957,-27.5\"/>\n<text text-anchor=\"middle\" x=\"969.5\" y=\"-41.8\" font-family=\"Times,serif\" font-size=\"14.00\">L</text>\n<polyline fill=\"none\" stroke=\"black\" points=\"982,-27.5 982,-63.5 \"/>\n<text text-anchor=\"middle\" x=\"1024.5\" y=\"-41.8\" font-family=\"Times,serif\" font-size=\"14.00\">data &#45;8.0000</text>\n<polyline fill=\"none\" stroke=\"black\" points=\"1067,-27.5 1067,-63.5 \"/>\n<text text-anchor=\"middle\" x=\"1108\" y=\"-41.8\" font-family=\"Times,serif\" font-size=\"14.00\">grad 1.0000</text>\n</g>\n<!-- 135642581191456*&#45;&gt;135642581191456 -->\n<g id=\"edge3\" class=\"edge\">\n<title>135642581191456*&#45;&gt;135642581191456</title>\n<path fill=\"none\" stroke=\"black\" d=\"M921.28,-45.5C928.78,-45.5 937.44,-45.5 946.67,-45.5\"/>\n<polygon fill=\"black\" stroke=\"black\" points=\"946.87,-49 956.87,-45.5 946.87,-42 946.87,-49\"/>\n</g>\n<!-- 135642581193136 -->\n<g id=\"node9\" class=\"node\">\n<title>135642581193136</title>\n<polygon fill=\"none\" stroke=\"black\" points=\"642.5,-0.5 642.5,-36.5 830.5,-36.5 830.5,-0.5 642.5,-0.5\"/>\n<text text-anchor=\"middle\" x=\"653\" y=\"-14.8\" font-family=\"Times,serif\" font-size=\"14.00\">f</text>\n<polyline fill=\"none\" stroke=\"black\" points=\"663.5,-0.5 663.5,-36.5 \"/>\n<text text-anchor=\"middle\" x=\"706\" y=\"-14.8\" font-family=\"Times,serif\" font-size=\"14.00\">data &#45;2.0000</text>\n<polyline fill=\"none\" stroke=\"black\" points=\"748.5,-0.5 748.5,-36.5 \"/>\n<text text-anchor=\"middle\" x=\"789.5\" y=\"-14.8\" font-family=\"Times,serif\" font-size=\"14.00\">grad 4.0000</text>\n</g>\n<!-- 135642581193136&#45;&gt;135642581191456* -->\n<g id=\"edge4\" class=\"edge\">\n<title>135642581193136&#45;&gt;135642581191456*</title>\n<path fill=\"none\" stroke=\"black\" d=\"M830.65,-34.67C840.2,-36.33 849.43,-37.93 857.72,-39.37\"/>\n<polygon fill=\"black\" stroke=\"black\" points=\"857.24,-42.84 867.69,-41.11 858.44,-35.95 857.24,-42.84\"/>\n</g>\n<!-- 135642581192656 -->\n<g id=\"node10\" class=\"node\">\n<title>135642581192656</title>\n<polygon fill=\"none\" stroke=\"black\" points=\"320,-28.5 320,-64.5 516,-64.5 516,-28.5 320,-28.5\"/>\n<text text-anchor=\"middle\" x=\"331.5\" y=\"-42.8\" font-family=\"Times,serif\" font-size=\"14.00\">c</text>\n<polyline fill=\"none\" stroke=\"black\" points=\"343,-28.5 343,-64.5 \"/>\n<text text-anchor=\"middle\" x=\"386.5\" y=\"-42.8\" font-family=\"Times,serif\" font-size=\"14.00\">data 10.0000</text>\n<polyline fill=\"none\" stroke=\"black\" points=\"430,-28.5 430,-64.5 \"/>\n<text text-anchor=\"middle\" x=\"473\" y=\"-42.8\" font-family=\"Times,serif\" font-size=\"14.00\">grad &#45;2.0000</text>\n</g>\n<!-- 135642581192656&#45;&gt;135642581199616+ -->\n<g id=\"edge9\" class=\"edge\">\n<title>135642581192656&#45;&gt;135642581199616+</title>\n<path fill=\"none\" stroke=\"black\" d=\"M516.07,-62.98C525.42,-64.57 534.43,-66.1 542.55,-67.48\"/>\n<polygon fill=\"black\" stroke=\"black\" points=\"542.21,-70.97 552.65,-69.2 543.38,-64.07 542.21,-70.97\"/>\n</g>\n</g>\n</svg>\n",
            "text/plain": [
              "<graphviz.graphs.Digraph at 0x7b5dbfde5930>"
            ]
          },
          "metadata": {},
          "execution_count": 129
        }
      ]
    },
    {
      "cell_type": "code",
      "source": [
        "f.grad = 4.0\n",
        "d.grad = -2.0\n",
        "c.grad = -2.0\n",
        "e.grad = -2.0\n",
        "\n",
        "# dL / da = (dL / de) * (de / da)\n",
        "a.grad = -2.0 * -3.0\n",
        "b.grad = -2.0 * 2.0"
      ],
      "metadata": {
        "id": "BgBpKqtP93ra"
      },
      "execution_count": null,
      "outputs": []
    },
    {
      "cell_type": "code",
      "source": [
        "class Neuron:\n",
        "    def __init__(self, nin):\n",
        "        self.w = [Value(random.uniform(-1, 1)) for _ in range(nin)]\n",
        "        self.b = Value(random.uniform(-1, 1))\n",
        "\n",
        "    def __call__(self, x):\n",
        "        # w*x + b\n",
        "        act = sum((wi*xi for wi, xi in zip(self.w, x)), self.b)\n",
        "        out = act.tanh()\n",
        "        return out\n",
        "\n",
        "    def parameters(self):\n",
        "        return self.w + [self.b]\n",
        "\n",
        "class Layer:\n",
        "    def __init__(self, nin, nout):\n",
        "        self.neurons = [Neuron(nin) for _ in range(nout)]\n",
        "\n",
        "    def __call__(self, x):\n",
        "        outs = [n(x) for n in self.neurons]\n",
        "        return outs[0] if len(outs) == 1 else outs\n",
        "\n",
        "    def parameters(self):\n",
        "        return [p for neuron in self.neurons for p in neuron.parameters()]\n",
        "\n",
        "class MLP:\n",
        "    def __init__(self, nin, nouts):\n",
        "        sz = [nin] + nouts\n",
        "        self.layers = [Layer(sz[i], sz[i+1]) for i in range(len(nouts))]\n",
        "\n",
        "    def __call__(self, x):\n",
        "        for layer in self.layers:\n",
        "            x = layer(x)\n",
        "        return x\n",
        "\n",
        "    def parameters(self):\n",
        "        return [p for layer in self.layers for p in layer.parameters()]\n"
      ],
      "metadata": {
        "id": "a2Tu5QPLPeEM"
      },
      "execution_count": null,
      "outputs": []
    },
    {
      "cell_type": "code",
      "source": [
        "x = [2.0, 3.0, -1.0]\n",
        "n = MLP(3, [4, 4, 1])\n",
        "n(x)\n",
        "\n",
        "xs = [\n",
        "    [2.0, 3.0, -1.0],\n",
        "    [3.0, -1.0, 0.5],\n",
        "    [0.5, 1.0, 1.0],\n",
        "    [1.0, 1.0, -1.0],\n",
        "]\n",
        "ys = [1.0, -1.0, -1.0, 1.0]"
      ],
      "metadata": {
        "id": "dMY-NzAnScrD"
      },
      "execution_count": null,
      "outputs": []
    },
    {
      "cell_type": "code",
      "source": [
        "for k in range(20):\n",
        "    # forward pass\n",
        "    ypred = [n(x) for x in xs]\n",
        "    loss = sum((yout - ygt)**2 for ygt, yout in zip(ys, ypred))\n",
        "\n",
        "    # backward pass\n",
        "    for p in n.parameters():\n",
        "        p.grad = 0.0\n",
        "    loss.backward()\n",
        "\n",
        "    for p in n.parameters():\n",
        "        p.data += -0.01 * p.grad\n",
        "\n",
        "\n",
        "    print(k, loss.data)"
      ],
      "metadata": {
        "colab": {
          "base_uri": "https://localhost:8080/"
        },
        "id": "SyBKFzbZbK2o",
        "outputId": "048a4a7e-7258-4819-f144-2c24596168a3"
      },
      "execution_count": null,
      "outputs": [
        {
          "output_type": "stream",
          "name": "stdout",
          "text": [
            "0 0.017901730617023104\n",
            "1 0.017873577481663787\n",
            "2 0.01784782638286242\n",
            "3 0.01781677715449156\n",
            "4 0.017793630447830108\n",
            "5 0.017765043589616905\n",
            "6 0.017737421584093457\n",
            "7 0.017706389406556118\n",
            "8 0.01768269755145322\n",
            "9 0.017658060010507105\n",
            "10 0.017630899190087205\n",
            "11 0.017603383766055455\n",
            "12 0.0175724592374954\n",
            "13 0.017545273201396254\n",
            "14 0.01752153758333066\n",
            "15 0.01749692321333403\n",
            "16 0.017464216389968167\n",
            "17 0.01743465348071131\n",
            "18 0.017404580492323754\n",
            "19 0.01737771296386257\n"
          ]
        }
      ]
    },
    {
      "cell_type": "code",
      "source": [
        "ypred"
      ],
      "metadata": {
        "colab": {
          "base_uri": "https://localhost:8080/"
        },
        "id": "OUOPAtIYdKa6",
        "outputId": "a92216f7-c7f9-4839-8e64-d5ba5c163290"
      },
      "execution_count": null,
      "outputs": [
        {
          "output_type": "execute_result",
          "data": {
            "text/plain": [
              "[Value(data=0.9329573270619815),\n",
              " Value(data=-0.9393290338895073),\n",
              " Value(data=-0.9354817650775133),\n",
              " Value(data=0.9290110980300813)]"
            ]
          },
          "metadata": {},
          "execution_count": 270
        }
      ]
    }
  ]
}